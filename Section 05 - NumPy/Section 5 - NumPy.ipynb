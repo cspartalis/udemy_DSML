{
 "cells": [
  {
   "cell_type": "markdown",
   "metadata": {},
   "source": [
    "# Section 5: Python for Data Analysis - NumPy\n",
    "\n",
    "* NumPy Arrays\n",
    "* NumPy Indexing and Selection\n",
    "* NumPy Operations"
   ]
  },
  {
   "cell_type": "code",
   "execution_count": 1,
   "metadata": {},
   "outputs": [],
   "source": [
    "import numpy as np"
   ]
  },
  {
   "cell_type": "markdown",
   "metadata": {},
   "source": [
    "## NumPy Arrays"
   ]
  },
  {
   "cell_type": "markdown",
   "metadata": {},
   "source": [
    "* Cast a list as a one dimensional array (a vector) by typing np.array(my_list)\n",
    "* You can create a multi-dimensional array (a matrix) by casting a list of lists.\n",
    "* np.arange(start,stop,step) is very similar to range()\n",
    "* np.zeros(): You can pass a single digit for 1d array or  a tuple for 2d array\n",
    "* np.ones() is similar to np.zeros()\n",
    "* np.linspace(start,stop,num): Returns num evenly spaced points from start to stop\n",
    "* Tip: You can understand the dimension by the num of opening brackets\n",
    "* Identity matrix (Μοναδιαίος πίνακας): np.eye()\n",
    "#### random\n",
    "* np.random.rand(): Create an array from with num numbers (num is the number that you pass in) that vary from 0 to 1. Again fot multidimensional array pass in the dimension as separate arguments (NOT as a tuple)\n",
    "* np.random.randn(): Similar to the above, but the numbers are from a normal standard distribution centered around 0\n",
    "* np.random.randint(low,high,size): low is inclusive, high is exclusive (not including high value)\n",
    "* You can just say rand() if you type **from numpy.random import randn**\n",
    "#### methods\n",
    "* .reshape() method: Same data, new shape\n",
    "* .max() method: Max value of an array\n",
    "* .argmax() method: Index location of max value\n",
    "* Similarly the is .min() and .argmin()\n",
    "* .shape method: Returns the dimension(s) of an array\n",
    "* .dtype method: Returns the data type of the items in the array\n"
   ]
  },
  {
   "cell_type": "markdown",
   "metadata": {},
   "source": [
    "## NumPy Indexing and Selection"
   ]
  },
  {
   "cell_type": "markdown",
   "metadata": {},
   "source": [
    "* Use slice notation for values in a range (arr[start:stop:step])\n",
    "* Arrays differ from lists, since they have the ability to broadcast."
   ]
  },
  {
   "cell_type": "code",
   "execution_count": 14,
   "metadata": {},
   "outputs": [
    {
     "data": {
      "text/plain": [
       "array([99, 99, 99,  3,  4])"
      ]
     },
     "execution_count": 14,
     "metadata": {},
     "output_type": "execute_result"
    }
   ],
   "source": [
    "#Arrays can broadccast\n",
    "my_arr = np.arange(5)\n",
    "slice_of_arr = my_arr[:3]\n",
    "slice_of_arr[:] = 99\n",
    "my_arr"
   ]
  },
  {
   "cell_type": "code",
   "execution_count": 15,
   "metadata": {},
   "outputs": [
    {
     "data": {
      "text/plain": [
       "array([0, 1, 2, 3, 4])"
      ]
     },
     "execution_count": 15,
     "metadata": {},
     "output_type": "execute_result"
    }
   ],
   "source": [
    "#If the initial array SHOULDN'T change\n",
    "my_arr = np.arange(5)\n",
    "slice_of_arr = my_arr.copy()[:3]\n",
    "slice_of_arr[:] = 99\n",
    "my_arr"
   ]
  },
  {
   "cell_type": "markdown",
   "metadata": {},
   "source": [
    "#### multi-dimensional arrays\n",
    "* Double bracket notation: **arr_2d[row][col]**\n",
    "* Coma single bracket notation: **arr2_d[row,col]** _RECOMENDED_\n"
   ]
  },
  {
   "cell_type": "code",
   "execution_count": 16,
   "metadata": {},
   "outputs": [
    {
     "name": "stdout",
     "output_type": "stream",
     "text": [
      "The boolean array: [False False False  True  True]\n",
      "The filterd array: [3 4]\n"
     ]
    }
   ],
   "source": [
    "#convert to boolean array\n",
    "arr = np.arange(5)\n",
    "bool_arr = arr > 2\n",
    "print(\"The boolean array: {}\".format(bool_arr))\n",
    "#conditional selection\n",
    "new_arr = arr[bool_arr]\n",
    "print(\"The filterd array: {}\".format(new_arr))"
   ]
  },
  {
   "cell_type": "markdown",
   "metadata": {},
   "source": [
    "## Numpy Operations [Documentation](https://docs.scipy.org/doc/numpy/reference/ufuncs.html)"
   ]
  },
  {
   "cell_type": "markdown",
   "metadata": {},
   "source": [
    "* Operations element by element: **arr3 = arr1 + arr2**\n",
    "* Scalar operations: **arr2 = arr1 + 100** _#add every element with 100_\n",
    "* Errors like _ZeroDivisionError_ will not be provided in NumPy. It will provide a warning and the element is gonna be _NaN_ or _inf_\n",
    "\n",
    "#### universal array functions (ufunc)\n",
    "* np.sqrt(arr)\n",
    "* np.exp(arr)\n",
    "* np.max(arr)\n",
    "* np.sin(arr)\n",
    "* np.log(arr)\n"
   ]
  },
  {
   "cell_type": "code",
   "execution_count": null,
   "metadata": {},
   "outputs": [],
   "source": []
  }
 ],
 "metadata": {
  "kernelspec": {
   "display_name": "Python 3",
   "language": "python",
   "name": "python3"
  },
  "language_info": {
   "codemirror_mode": {
    "name": "ipython",
    "version": 3
   },
   "file_extension": ".py",
   "mimetype": "text/x-python",
   "name": "python",
   "nbconvert_exporter": "python",
   "pygments_lexer": "ipython3",
   "version": "3.7.3"
  }
 },
 "nbformat": 4,
 "nbformat_minor": 2
}
