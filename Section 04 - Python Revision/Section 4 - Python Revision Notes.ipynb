{
 "cells": [
  {
   "cell_type": "markdown",
   "metadata": {},
   "source": [
    "# Section 4 - Python Crash Course"
   ]
  },
  {
   "cell_type": "markdown",
   "metadata": {},
   "source": [
    "### Basic Arithmetic\n",
    "* There are two types of numbers: integers and floatin point numbers.\n",
    "* There is order of operations (first mul then addition, first then or etc).\n",
    "* The mod function is \"%\" and returns what remains. (Tip: Use when you wnat to check if a number is even.)"
   ]
  },
  {
   "cell_type": "markdown",
   "metadata": {},
   "source": [
    "### Variables\n",
    "* The assignment operator is \"=\".\n",
    "* Variables can't start with numbers or special symbols\n",
    "* Use underscore to separate words in the name of a variable.\n",
    "* Comments start with \"#\"."
   ]
  },
  {
   "cell_type": "markdown",
   "metadata": {},
   "source": [
    "### Strings\n",
    "* Strings are wrapped in \"\" or ''.\n",
    "* Format print statements: with .format().\n",
    "* Indexing starts at zero.\n",
    "* Grab slices of a string using colon notation.\n",
    "* Strings are immutable."
   ]
  },
  {
   "cell_type": "markdown",
   "metadata": {},
   "source": [
    "### Lists\n",
    "* Sequence of items\n",
    "* Lists can take in any data type.\n",
    "* Add element to the end of a list with .append() method.\n",
    "* Lists have same indexing with strings.\n",
    "* Lists are mutable. You can reassign positions.\n",
    "* You can nest lists inside of each other."
   ]
  },
  {
   "cell_type": "markdown",
   "metadata": {},
   "source": [
    "### Dictionaries\n",
    "* They are key-values pair mappings. They behave as key-value tables such as hash tables. \n",
    "* The hold elements through keys. Not in a sequence.\n",
    "* Can take any items as values (e.g. lists, other dictinaries etc)"
   ]
  },
  {
   "cell_type": "markdown",
   "metadata": {},
   "source": [
    "### Tuples\n",
    "* Like lists, but they use parenthesis instead of square brackets.\n",
    "* Tuples are immutable. They don't support item assignment"
   ]
  },
  {
   "cell_type": "markdown",
   "metadata": {},
   "source": [
    "### Sets\n",
    "* Set is a collection of unique elements.\n",
    "* You can type the set() function and pass in a list to get only the unique instances."
   ]
  },
  {
   "cell_type": "markdown",
   "metadata": {},
   "source": [
    "### List Comprehension, Functions\n",
    "* range() is a generator of numeric values.\n",
    "* List comprehension is kind of a for loop backwards and it is used to save some typing when you want to append in a list.\n",
    "* Functions start with lowercase letters.\n",
    "* Functions can have a default value for a parameter.\n",
    "* Use '+' to concatenate two strings.\n",
    "* Functions can have socumentations using '''...'''.\n",
    "* If you write the namme of the function and in the end you type Shift+Tab, you can see the documentation."
   ]
  },
  {
   "cell_type": "markdown",
   "metadata": {},
   "source": [
    "### map() Function\n",
    "\n",
    "* Makes an iterator that computes the functions using arguements from each of the iterables."
   ]
  },
  {
   "cell_type": "code",
   "execution_count": 5,
   "metadata": {},
   "outputs": [
    {
     "name": "stdout",
     "output_type": "stream",
     "text": [
      "[2, 4, 6, 8]\n"
     ]
    }
   ],
   "source": [
    "def times2(num):\n",
    "    return num*2\n",
    "    \n",
    "seq = [1,2,3,4]\n",
    "my_list = list(map(times2, seq))\n",
    "print(my_list)"
   ]
  },
  {
   "cell_type": "markdown",
   "metadata": {},
   "source": [
    "### Lambda Expression\n",
    "* Replicates the structure of a function using less words.\n",
    "* Use it instead of writing an entire function. E.g. in map()"
   ]
  },
  {
   "cell_type": "code",
   "execution_count": 13,
   "metadata": {},
   "outputs": [
    {
     "data": {
      "text/plain": [
       "[2, 4, 6, 8]"
      ]
     },
     "execution_count": 13,
     "metadata": {},
     "output_type": "execute_result"
    }
   ],
   "source": [
    "list(map(lambda var: var*2, seq))    #multiply everything with 2"
   ]
  },
  {
   "cell_type": "markdown",
   "metadata": {},
   "source": [
    "### filter() Function\n",
    "* Very simmilar structure with map.\n",
    "* Filters out elements.\n",
    "* Should use a lambda expression or a function that returns a boolean value (True or False).\n",
    "* Then pass it into an iterable object and it returns only the values that the statement is True"
   ]
  },
  {
   "cell_type": "code",
   "execution_count": 14,
   "metadata": {},
   "outputs": [
    {
     "data": {
      "text/plain": [
       "[2, 4]"
      ]
     },
     "execution_count": 14,
     "metadata": {},
     "output_type": "execute_result"
    }
   ],
   "source": [
    "list(filter(lambda num: num%2==0, seq))    #returns only even number"
   ]
  },
  {
   "cell_type": "markdown",
   "metadata": {},
   "source": [
    "### Methods\n",
    "* Are just call you can make of an object that will affect the object or return a result in some manner."
   ]
  },
  {
   "cell_type": "markdown",
   "metadata": {},
   "source": [
    "### Tuple Unpacking\n",
    "* Is used a lot when we iterate a list of tuples."
   ]
  },
  {
   "cell_type": "code",
   "execution_count": 18,
   "metadata": {},
   "outputs": [
    {
     "name": "stdout",
     "output_type": "stream",
     "text": [
      "1\n",
      "3\n",
      "5\n"
     ]
    }
   ],
   "source": [
    "my_list = [(1,2),(3,4),(5,6)]\n",
    "for x,y in my_list:\n",
    "    print(x)"
   ]
  }
 ],
 "metadata": {
  "kernelspec": {
   "display_name": "Python 3",
   "language": "python",
   "name": "python3"
  },
  "language_info": {
   "codemirror_mode": {
    "name": "ipython",
    "version": 3
   },
   "file_extension": ".py",
   "mimetype": "text/x-python",
   "name": "python",
   "nbconvert_exporter": "python",
   "pygments_lexer": "ipython3",
   "version": "3.7.3"
  }
 },
 "nbformat": 4,
 "nbformat_minor": 2
}
