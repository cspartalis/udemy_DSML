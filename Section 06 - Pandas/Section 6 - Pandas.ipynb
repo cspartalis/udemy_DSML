{
 "cells": [
  {
   "cell_type": "markdown",
   "metadata": {},
   "source": [
    "# Python for Data Analysis - Pandas\n",
    "\n",
    "* Series\n",
    "* DataFrames part 1\n",
    "* DataFrames part 2\n",
    "* DataFrames part 3\n",
    "* Missing Data\n",
    "* Groupby\n",
    "* Merging Joining and Concatenating\n",
    "* Operations\n",
    "* Data Input and Output"
   ]
  },
  {
   "cell_type": "code",
   "execution_count": 89,
   "metadata": {},
   "outputs": [],
   "source": [
    "import numpy as np\n",
    "import pandas as pd\n",
    "from pandas import Series, DataFrame\n",
    "from IPython.display import clear_output"
   ]
  },
  {
   "cell_type": "markdown",
   "metadata": {},
   "source": [
    "## Series\n",
    "* **Are like numpy arrays, but they can have axis labels. They can be indexed.**\n",
    "* grab information out of series --> **ser[index_label]**\n",
    "* ser_a + ser_b --> Try to match up operation based on the index. If there is no match, then the value is null."
   ]
  },
  {
   "cell_type": "code",
   "execution_count": 23,
   "metadata": {},
   "outputs": [],
   "source": [
    "labels = ['a', 'b','c']\n",
    "my_data = [1, 2, 3]\n",
    "arr = np.array(my_data)\n",
    "d = {'a':1, 'b':2, 'c':3}\n",
    "\n",
    "# ser1 == ser2 == ser3\n",
    "ser1 = pd.Series(data = my_data, index = labels)\n",
    "ser2 = pd.Series(arr, labels)\n",
    "ser3 = pd.Series(d)"
   ]
  },
  {
   "cell_type": "markdown",
   "metadata": {},
   "source": [
    "## DataFrames part 1\n",
    "* **Dataframe is series sharing the same index.**\n",
    "* If _**inplace=False**_, the changes are not permanent.\n",
    "* axis=0 (default) --> rows\n",
    "* axis=1 --> columns\n",
    "* grab a row with 2 ways: based on location and index location"
   ]
  },
  {
   "cell_type": "code",
   "execution_count": 24,
   "metadata": {},
   "outputs": [],
   "source": [
    "#randn --> normally distributed random numbers\n",
    "from numpy.random import randn\n",
    "np.random.seed(101)"
   ]
  },
  {
   "cell_type": "code",
   "execution_count": 25,
   "metadata": {},
   "outputs": [],
   "source": [
    "df  = pd.DataFrame(data = randn(5,4), index = ['A','B','C','D','E'], columns = ['W','X','Y','Z'])\n",
    "\n",
    "#one columns is a series\n",
    "#one argument\n",
    "df['W']\n",
    "\n",
    "#multiple columns is a dataframe\n",
    "#list of arguments\n",
    "df[['W','X']]\n",
    "\n",
    "#add column\n",
    "df['new'] = df['X'] + df['Y']\n",
    "\n",
    "#remove column\n",
    "df.drop('new', axis=1, inplace=True)\n",
    "\n",
    "#remove row\n",
    "df.drop('E')\n",
    "\n",
    "#grab a row\n",
    "#1st loc from location\n",
    "df.loc['C']\n",
    "#2nd based on index location\n",
    "df.iloc[2]\n",
    "\n",
    "#grab a subset of rows and columns\n",
    "df.loc['B','Y']             #returns a value\n",
    "df.loc[['A','B'],['W','Y']] #returns a subset\n",
    "\n",
    "clear_output()"
   ]
  },
  {
   "cell_type": "markdown",
   "metadata": {},
   "source": [
    "## DataFrames part 2"
   ]
  },
  {
   "cell_type": "code",
   "execution_count": 40,
   "metadata": {},
   "outputs": [],
   "source": [
    "#returns dataframe of boolean values \n",
    "df > 0\n",
    "\n",
    "#returns values where it is True and NaN where it is False\n",
    "df[df > 0]\n",
    "\n",
    "#returns series of boolean values\n",
    "df['W'] > 0\n",
    "\n",
    "#returns a subset of the dataframe\n",
    "#only the rows where it happens to be true\n",
    "df[df['W'] > 0]\n",
    "\n",
    "#from the above subset grab the X column\n",
    "df[df['W'] > 0]['X']\n",
    "\n",
    "#multiple conditions\n",
    "#WATCH OUT! and --> & , or --> |\n",
    "df[(df['W']>0) & (df['Y']<1)]\n",
    "\n",
    "#reset index\n",
    "#inplace=True if it has to be permanent\n",
    "#the initial index is converted to a column and the new one is numerical(0,1,...)\n",
    "df.reset_index()\n",
    "\n",
    "#set index\n",
    "#the initial index will be lost\n",
    "new_ind = 'Salonika Athens Larisa Patra Xanthi'.split()\n",
    "df['Cities'] = new_ind\n",
    "df.set_index('Cities', inplace=True)"
   ]
  },
  {
   "cell_type": "markdown",
   "metadata": {},
   "source": [
    "## DataFrames part 3\n",
    "* Index levels\n",
    "* Call values from multindex dataframe: **df.loc[**outside_index**].loc[**inside_index**][**column**]**\n",
    "* Cross-section"
   ]
  },
  {
   "cell_type": "code",
   "execution_count": 58,
   "metadata": {},
   "outputs": [],
   "source": [
    "#index levels\n",
    "outside = ['G1','G1','G1','G2','G2','G2']\n",
    "inside = [1,2,3,1,2,3]\n",
    "#make a list of tuple pairs\n",
    "hier_index = list(zip(outside,inside))\n",
    "multilevel_index = pd.MultiIndex.from_tuples(hier_index)\n",
    "\n",
    "df = pd.DataFrame(randn(6,2), multilevel_index, columns=['A','B'])\n",
    "\n",
    "#call data from a multilevel index\n",
    "df.loc['G1'].loc[1]['A']\n",
    "\n",
    "#name index levels\n",
    "df.index.names = ['Groups','Num']\n",
    "\n",
    "#cross-section\n",
    "df.xs(1,level='Num')\n",
    "\n",
    "clear_output()"
   ]
  },
  {
   "cell_type": "markdown",
   "metadata": {},
   "source": [
    "## Missing Data\n",
    "* dropna method\n",
    "* fillna method"
   ]
  },
  {
   "cell_type": "code",
   "execution_count": 65,
   "metadata": {},
   "outputs": [],
   "source": [
    "d = {'A':[1,2,np.nan], 'B':[5,np.nan,np.nan], 'C':[1,2,3]}\n",
    "df = pd.DataFrame(d)\n",
    "\n",
    "#drop any ROWS that have NaN values\n",
    "df.dropna()\n",
    "\n",
    "#drop any COLUMNS that have NaN values\n",
    "df.dropna(axis=1)\n",
    "\n",
    "#KEEP the rows that have at least 2 not-NaN values\n",
    "df.dropna(thresh=2)\n",
    "\n",
    "#fill NaN values\n",
    "df.fillna(value='FILL VALUE')\n",
    "\n",
    "#fill NaN values of a column with the mean of the column\n",
    "df['A'].fillna(value=df['A'].mean())\n",
    "\n",
    "clear_output()"
   ]
  },
  {
   "cell_type": "markdown",
   "metadata": {},
   "source": [
    "## Groupby\n",
    "* Allows you to group together rows based off of column and perform an aggregate function on them\n",
    "* An aggregate function has many input ans spit only one output (sum, mean, std, max etc)"
   ]
  },
  {
   "cell_type": "code",
   "execution_count": 98,
   "metadata": {},
   "outputs": [
    {
     "data": {
      "text/html": [
       "<div>\n",
       "<style scoped>\n",
       "    .dataframe tbody tr th:only-of-type {\n",
       "        vertical-align: middle;\n",
       "    }\n",
       "\n",
       "    .dataframe tbody tr th {\n",
       "        vertical-align: top;\n",
       "    }\n",
       "\n",
       "    .dataframe thead th {\n",
       "        text-align: right;\n",
       "    }\n",
       "</style>\n",
       "<table border=\"1\" class=\"dataframe\">\n",
       "  <thead>\n",
       "    <tr style=\"text-align: right;\">\n",
       "      <th></th>\n",
       "      <th>Company</th>\n",
       "      <th>Person</th>\n",
       "      <th>Sales</th>\n",
       "    </tr>\n",
       "  </thead>\n",
       "  <tbody>\n",
       "    <tr>\n",
       "      <th>0</th>\n",
       "      <td>GOOG</td>\n",
       "      <td>Xristoforos</td>\n",
       "      <td>120</td>\n",
       "    </tr>\n",
       "    <tr>\n",
       "      <th>1</th>\n",
       "      <td>GOOG</td>\n",
       "      <td>Stella</td>\n",
       "      <td>300</td>\n",
       "    </tr>\n",
       "    <tr>\n",
       "      <th>2</th>\n",
       "      <td>MSFT</td>\n",
       "      <td>Xristina</td>\n",
       "      <td>250</td>\n",
       "    </tr>\n",
       "    <tr>\n",
       "      <th>3</th>\n",
       "      <td>MSFT</td>\n",
       "      <td>Nikos</td>\n",
       "      <td>125</td>\n",
       "    </tr>\n",
       "    <tr>\n",
       "      <th>4</th>\n",
       "      <td>FB</td>\n",
       "      <td>Eleni</td>\n",
       "      <td>490</td>\n",
       "    </tr>\n",
       "    <tr>\n",
       "      <th>5</th>\n",
       "      <td>FB</td>\n",
       "      <td>Mimis</td>\n",
       "      <td>266</td>\n",
       "    </tr>\n",
       "  </tbody>\n",
       "</table>\n",
       "</div>"
      ],
      "text/plain": [
       "  Company       Person  Sales\n",
       "0    GOOG  Xristoforos    120\n",
       "1    GOOG       Stella    300\n",
       "2    MSFT     Xristina    250\n",
       "3    MSFT        Nikos    125\n",
       "4      FB        Eleni    490\n",
       "5      FB        Mimis    266"
      ]
     },
     "execution_count": 98,
     "metadata": {},
     "output_type": "execute_result"
    }
   ],
   "source": [
    "data = {'Company':['GOOG','GOOG','MSFT','MSFT','FB','FB'],\n",
    "        'Person':['Xristoforos','Stella','Xristina','Nikos','Eleni','Mimis'],\n",
    "        'Sales':[120, 300, 250, 125, 490, 266]}\n",
    "\n",
    "df = pd.DataFrame(data)\n",
    "df"
   ]
  },
  {
   "cell_type": "code",
   "execution_count": 101,
   "metadata": {},
   "outputs": [
    {
     "data": {
      "text/html": [
       "<div>\n",
       "<style scoped>\n",
       "    .dataframe tbody tr th:only-of-type {\n",
       "        vertical-align: middle;\n",
       "    }\n",
       "\n",
       "    .dataframe tbody tr th {\n",
       "        vertical-align: top;\n",
       "    }\n",
       "\n",
       "    .dataframe thead th {\n",
       "        text-align: right;\n",
       "    }\n",
       "</style>\n",
       "<table border=\"1\" class=\"dataframe\">\n",
       "  <thead>\n",
       "    <tr style=\"text-align: right;\">\n",
       "      <th></th>\n",
       "      <th>Sales</th>\n",
       "    </tr>\n",
       "    <tr>\n",
       "      <th>Company</th>\n",
       "      <th></th>\n",
       "    </tr>\n",
       "  </thead>\n",
       "  <tbody>\n",
       "    <tr>\n",
       "      <th>FB</th>\n",
       "      <td>756</td>\n",
       "    </tr>\n",
       "    <tr>\n",
       "      <th>GOOG</th>\n",
       "      <td>420</td>\n",
       "    </tr>\n",
       "    <tr>\n",
       "      <th>MSFT</th>\n",
       "      <td>375</td>\n",
       "    </tr>\n",
       "  </tbody>\n",
       "</table>\n",
       "</div>"
      ],
      "text/plain": [
       "         Sales\n",
       "Company       \n",
       "FB         756\n",
       "GOOG       420\n",
       "MSFT       375"
      ]
     },
     "execution_count": 101,
     "metadata": {},
     "output_type": "execute_result"
    }
   ],
   "source": [
    "#group by company and calculate the total sales of each\n",
    "df.groupby('Company').sum()"
   ]
  },
  {
   "cell_type": "code",
   "execution_count": 110,
   "metadata": {},
   "outputs": [
    {
     "data": {
      "text/html": [
       "<div>\n",
       "<style scoped>\n",
       "    .dataframe tbody tr th:only-of-type {\n",
       "        vertical-align: middle;\n",
       "    }\n",
       "\n",
       "    .dataframe tbody tr th {\n",
       "        vertical-align: top;\n",
       "    }\n",
       "\n",
       "    .dataframe thead th {\n",
       "        text-align: right;\n",
       "    }\n",
       "</style>\n",
       "<table border=\"1\" class=\"dataframe\">\n",
       "  <thead>\n",
       "    <tr style=\"text-align: right;\">\n",
       "      <th></th>\n",
       "      <th>Company</th>\n",
       "      <th>FB</th>\n",
       "      <th>GOOG</th>\n",
       "      <th>MSFT</th>\n",
       "    </tr>\n",
       "  </thead>\n",
       "  <tbody>\n",
       "    <tr>\n",
       "      <th rowspan=\"8\" valign=\"top\">Sales</th>\n",
       "      <th>count</th>\n",
       "      <td>2.000000</td>\n",
       "      <td>2.000000</td>\n",
       "      <td>2.000000</td>\n",
       "    </tr>\n",
       "    <tr>\n",
       "      <th>mean</th>\n",
       "      <td>378.000000</td>\n",
       "      <td>210.000000</td>\n",
       "      <td>187.500000</td>\n",
       "    </tr>\n",
       "    <tr>\n",
       "      <th>std</th>\n",
       "      <td>158.391919</td>\n",
       "      <td>127.279221</td>\n",
       "      <td>88.388348</td>\n",
       "    </tr>\n",
       "    <tr>\n",
       "      <th>min</th>\n",
       "      <td>266.000000</td>\n",
       "      <td>120.000000</td>\n",
       "      <td>125.000000</td>\n",
       "    </tr>\n",
       "    <tr>\n",
       "      <th>25%</th>\n",
       "      <td>322.000000</td>\n",
       "      <td>165.000000</td>\n",
       "      <td>156.250000</td>\n",
       "    </tr>\n",
       "    <tr>\n",
       "      <th>50%</th>\n",
       "      <td>378.000000</td>\n",
       "      <td>210.000000</td>\n",
       "      <td>187.500000</td>\n",
       "    </tr>\n",
       "    <tr>\n",
       "      <th>75%</th>\n",
       "      <td>434.000000</td>\n",
       "      <td>255.000000</td>\n",
       "      <td>218.750000</td>\n",
       "    </tr>\n",
       "    <tr>\n",
       "      <th>max</th>\n",
       "      <td>490.000000</td>\n",
       "      <td>300.000000</td>\n",
       "      <td>250.000000</td>\n",
       "    </tr>\n",
       "  </tbody>\n",
       "</table>\n",
       "</div>"
      ],
      "text/plain": [
       "Company              FB        GOOG        MSFT\n",
       "Sales count    2.000000    2.000000    2.000000\n",
       "      mean   378.000000  210.000000  187.500000\n",
       "      std    158.391919  127.279221   88.388348\n",
       "      min    266.000000  120.000000  125.000000\n",
       "      25%    322.000000  165.000000  156.250000\n",
       "      50%    378.000000  210.000000  187.500000\n",
       "      75%    434.000000  255.000000  218.750000\n",
       "      max    490.000000  300.000000  250.000000"
      ]
     },
     "execution_count": 110,
     "metadata": {},
     "output_type": "execute_result"
    }
   ],
   "source": [
    "#total sales of FB\n",
    "df.groupby('Company').sum().loc['FB']\n",
    "\n",
    "#get a bunch of valuable information\n",
    "df.groupby('Company').describe()\n",
    "#transpose index --> column\n",
    "df.groupby('Company').describe().transpose()"
   ]
  },
  {
   "cell_type": "markdown",
   "metadata": {},
   "source": [
    "## Merging, Joining and Concatenating"
   ]
  },
  {
   "cell_type": "markdown",
   "metadata": {},
   "source": [
    "#### Concatenation \n",
    "* **pd.cocnat([df1, df2, df3], axis =** _0 or 1_ **)**\n",
    "* Glues together dataframes\n",
    "* Dimensions should match along the axis you concatenating on\n",
    "\n",
    "#### Merging\n",
    "* **pd.merge(df1, df2, on=** _'common column'_ **)**\n",
    "* Merge dataframes together on a common column\n",
    "* **how** parameter for extra functionality (outer, inner, right, left)\n",
    "\n",
    "#### Joining\n",
    "* **df1.join(df2)**\n",
    "* Combining columns of 2 potentialy differently-indexed dataframes into a single result dataframe"
   ]
  },
  {
   "cell_type": "markdown",
   "metadata": {},
   "source": [
    "## Operations"
   ]
  },
  {
   "cell_type": "code",
   "execution_count": 138,
   "metadata": {},
   "outputs": [],
   "source": [
    "df = pd.DataFrame({'col1':[1,2,3,4],'col2':[444,555,666,444],'col3':['abc','def','ghi','xyz']})\n",
    "\n",
    "#get the unique values of a column\n",
    "df['col2'].unique()\n",
    "\n",
    "#count the unique values of a column\n",
    "df['col2'].nunique()\n",
    "\n",
    "#how many times each unique value is occured in that column\n",
    "df['col2'].value_counts()\n",
    "\n",
    "#conditional selection\n",
    "df[(df['col1']>2) & (df['col2']==444)]\n",
    "\n",
    "#apply a custom method\n",
    "#broadcast function to each element of that column\n",
    "df['col1'].apply(lambda x : x*2)\n",
    "\n",
    "#get the name of the columns\n",
    "df.columns\n",
    "\n",
    "#same for the index\n",
    "df.index\n",
    "\n",
    "#sort by the values of a column\n",
    "df.sort_values(by='col2')\n",
    "\n",
    "#check for NaN values\n",
    "#returns a boolean dataframe\n",
    "df.isnull()\n",
    "\n",
    "#pivot table\n",
    "data = {'A':['foo','foo','foo','bar','bar','bar'],\n",
    "        'B':['one','one','two','two','one','one'],\n",
    "        'C':['x','y','x','y','x','y'],\n",
    "        'D':[1,3,2,5,4,1]}\n",
    "\n",
    "df = pd.DataFrame(data)\n",
    "\n",
    "df.pivot_table(values=['D'], index=['A','B'], columns=['C'])\n",
    "\n",
    "clear_output()"
   ]
  },
  {
   "cell_type": "markdown",
   "metadata": {},
   "source": [
    "## Data Input and Output\n",
    "* There are a lot of file options to read from. Just type pd.read_ and pres TAB to see them.\n",
    "* Here are presented just some examples (csv, excel, html)\n",
    "\n",
    "#### CSV\n",
    "* Input --> **df = pd.read_csv(**'example'**)**\n",
    "* Output --> **df.to_csv(**'example'**,index=False)**\n",
    "* index=False if we don't want to save index as a column.\n",
    "\n",
    "#### Excel\n",
    "* Python can just read data, not insert formula etc\n",
    "* **WATCH OUT!** When you read it's _sheetname_ and when you write is _sheet_name_\n",
    "* Input --> **pd.read_excel(**'Excel_Sample.xlsx'**,sheetname='Sheet1')**\n",
    "* Output --> **df.to_excel(**'Excel_Sample.xlsx'**,sheet_name='Sheet1')**\n",
    "\n",
    "#### HTML\n",
    "* Input --> **data = pd.read_html(**'http://www.fdic.gov/bank/individual/failed/banklist.html'**)**\n",
    "* **data** is a list, so we need to cycle through that ls\\ist to find what we are looking.\n",
    "* df = data[0]"
   ]
  },
  {
   "cell_type": "markdown",
   "metadata": {},
   "source": [
    "## Notes from excercises\n",
    "* **.info()** to get the information of a dataset\n",
    "* **lambda(arguement_passed : expression)**\n",
    "* Don't forget parenthesis when you're doing conditional selection"
   ]
  },
  {
   "cell_type": "code",
   "execution_count": null,
   "metadata": {},
   "outputs": [],
   "source": []
  }
 ],
 "metadata": {
  "kernelspec": {
   "display_name": "Python 3",
   "language": "python",
   "name": "python3"
  },
  "language_info": {
   "codemirror_mode": {
    "name": "ipython",
    "version": 3
   },
   "file_extension": ".py",
   "mimetype": "text/x-python",
   "name": "python",
   "nbconvert_exporter": "python",
   "pygments_lexer": "ipython3",
   "version": "3.7.3"
  }
 },
 "nbformat": 4,
 "nbformat_minor": 2
}
